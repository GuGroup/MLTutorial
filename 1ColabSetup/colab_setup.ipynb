{
 "cells": [
  {
   "cell_type": "markdown",
   "id": "65375282",
   "metadata": {
    "jp-MarkdownHeadingCollapsed": true
   },
   "source": [
    "# Google Colab 튜토리얼\n",
    "작성자 - 구근호\n",
    "## 1. Why Google Colab?\n",
    "Google Colab은 무료 온라인 GPU를 제공하여 파이썬에서 pytorch, tensorflow를 사용하여 딥 러닝 모델을 사용할 수 있습니다. GPU가 없는 초보자들에게도 GPU를 사용하여 연습할 수 있는 인터페이스를 제공합니다.\n",
    "\n",
    "## 2. Colab 사용법\n",
    "Google 계정 로그인 후 Google colab 웹사이트로 갑니다.\n",
    "\n",
    "<img src=\"img/img1.png\" style=\"max-width: 800px;\">\n",
    "\n",
    "오른쪽 아래에 뉴 노트북을 누릅니다.\n",
    "\n",
    "<img src=\"img/img2.png\" style=\"max-width: 800px;\">\n",
    "\n",
    "이름을 자유롭게 수정할 수 있습니다.\n",
    "\n",
    "<img src=\"img/img3.png\" style=\"max-width: 800px;\">\n",
    "\n",
    "Ctrl+엔터나 화살표를 눌러서 코드를 돌릴 수가 있고, + code를 눌러서 새로운 블락을 추가할 수 있습니다.\n",
    "\n",
    "<img src=\"img/img4.png\" style=\"max-width: 800px;\">\n",
    "\n",
    "이제 파이썬 튜토리얼 노트북을 불러봅시다.\n",
    "\n",
    "<img src=\"img/img5.png\" style=\"max-width: 800px;\">\n",
    "\n",
    "\n",
    "<img src=\"img/img6.png\" style=\"max-width: 800px;\">"
   ]
  },
  {
   "cell_type": "code",
   "execution_count": null,
   "id": "8477a38d-94e4-4467-b345-a211abbc33d8",
   "metadata": {},
   "outputs": [],
   "source": []
  }
 ],
 "metadata": {
  "kernelspec": {
   "display_name": "Python 3 (ipykernel)",
   "language": "python",
   "name": "python3"
  },
  "language_info": {
   "codemirror_mode": {
    "name": "ipython",
    "version": 3
   },
   "file_extension": ".py",
   "mimetype": "text/x-python",
   "name": "python",
   "nbconvert_exporter": "python",
   "pygments_lexer": "ipython3",
   "version": "3.11.6"
  }
 },
 "nbformat": 4,
 "nbformat_minor": 5
}
