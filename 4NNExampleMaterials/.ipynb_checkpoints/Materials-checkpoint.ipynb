{
 "cells": [
  {
   "cell_type": "markdown",
   "id": "e318f4cc-4430-460e-86b4-a1fb71f24b7a",
   "metadata": {},
   "source": [
    "## 논문\n",
    "<img src=\"img/img1.png\" style=\"max-width: 800px;\">\n",
    "\n",
    "### 데이터 부르기"
   ]
  },
  {
   "cell_type": "code",
   "execution_count": null,
   "id": "1314a734-86c2-49f2-9dee-aaee034a7d1c",
   "metadata": {},
   "outputs": [],
   "source": [
    "import csv\n",
    "import torch\n",
    "import pandas as pd\n",
    "df = pd.read_csv('OCM_matrix.csv')\n",
    "df.head()"
   ]
  },
  {
   "cell_type": "code",
   "execution_count": null,
   "id": "6b6b05c0-4bd0-4f11-bd86-de545e870098",
   "metadata": {},
   "outputs": [],
   "source": [
    "data = df.to_numpy()"
   ]
  },
  {
   "cell_type": "markdown",
   "id": "cc9ee1c0-c5af-44b9-87ee-492e4d2c38a4",
   "metadata": {},
   "source": [
    "## 데이터 Train, Validation, Test로 나누기"
   ]
  },
  {
   "cell_type": "code",
   "execution_count": null,
   "id": "f4b07ea0-37a9-45bb-853f-b8b219a7d2ac",
   "metadata": {},
   "outputs": [],
   "source": [
    "import numpy as np\n",
    "r_train = 0.8\n",
    "r_val = 0.1\n",
    "\n",
    "ntrain = int(data.shape[0]*r_train)\n",
    "nval = int(data.shape[0]*r_val)\n",
    "\n",
    "np.random.shuffle(data)\n",
    "\n",
    "data = torch.Tensor(data)\n",
    "\n",
    "train = data[:ntrain,:]\n",
    "val = data[ntrain:ntrain+nval,:]\n",
    "test = data[ntrain+nval:,:]\n",
    "\n",
    "train_x = train[:,1:]\n",
    "train_y = train[:,:1]\n",
    "\n",
    "val_x = val[:,1:]\n",
    "val_y = val[:,:1]\n",
    "\n",
    "test_x = test[:,1:]\n",
    "test_y = test[:,:1]"
   ]
  },
  {
   "cell_type": "markdown",
   "id": "2ff64590-8f3e-40b7-b282-c436ffb173ee",
   "metadata": {},
   "source": [
    "### Normalization용 Mean, std계산"
   ]
  },
  {
   "cell_type": "code",
   "execution_count": null,
   "id": "8e369fec-703f-40c3-bbc4-da27eed2519d",
   "metadata": {},
   "outputs": [],
   "source": [
    "x_mean, x_std = train_x.mean(0), train_x.std(0)\n",
    "x_std[x_std ==0] = 1\n",
    "y_mean = 0\n",
    "y_std = 1\n",
    "train_x_norm = (train_x - x_mean)/x_std\n",
    "train_y_norm = (train_y - y_mean)/y_std\n",
    "\n",
    "val_x_norm = (val_x - x_mean)/x_std\n",
    "val_y_norm = (val_y - y_mean)/y_std\n",
    "\n",
    "test_x_norm = (test_x - x_mean)/x_std\n",
    "test_y_norm = (test_y - y_mean)/y_std\n"
   ]
  },
  {
   "cell_type": "markdown",
   "id": "14d5e867-893a-4924-9474-8412207c375c",
   "metadata": {},
   "source": [
    "### 모델"
   ]
  },
  {
   "cell_type": "code",
   "execution_count": null,
   "id": "0994263a-6ca5-44a6-99b3-cdee441412bb",
   "metadata": {},
   "outputs": [],
   "source": [
    "class NeuralNetwork(torch.nn.Module):\n",
    "    def __init__(self):\n",
    "        super().__init__()\n",
    "        self.linear_layer_1 = torch.nn.Linear(105, 512)\n",
    "        self.linear_layer_2 = torch.nn.Linear(512, 1)\n",
    "        self.activation1 = torch.nn.Softplus()\n",
    "        self.activation2 = torch.nn.Sigmoid()\n",
    "        \n",
    "    def forward(self,x):\n",
    "        z = self.linear_layer_1(x)\n",
    "        z = self.activation1(z)\n",
    "        z = self.linear_layer_2(z)\n",
    "        z = self.activation2(z)*100\n",
    "        return z\n",
    "    \n",
    "Model = NeuralNetwork()"
   ]
  },
  {
   "cell_type": "code",
   "execution_count": null,
   "id": "6023cb66-c28b-41c5-ae1d-c9098ccc516f",
   "metadata": {},
   "outputs": [],
   "source": [
    "criterion = torch.nn.MSELoss()\n",
    "optimizer = torch.optim.Adam(Model.parameters(),0.001)"
   ]
  },
  {
   "cell_type": "markdown",
   "id": "ab8ebcb4-5f7d-405c-bc6e-188576c81ae0",
   "metadata": {},
   "source": [
    "### 학습"
   ]
  },
  {
   "cell_type": "code",
   "execution_count": null,
   "id": "3f05e5df-452b-438d-b0b3-f8b1064f9c60",
   "metadata": {},
   "outputs": [],
   "source": [
    "best_val_loss = torch.Tensor([float('inf')])\n",
    "for i in range(1000):\n",
    "    predicted_train_y_norm = Model(train_x_norm)\n",
    "    train_loss = criterion(train_y_norm,predicted_train_y_norm)\n",
    "    \n",
    "    optimizer.zero_grad()\n",
    "    train_loss.backward()\n",
    "    optimizer.step()\n",
    "    \n",
    "    predicted_val_y_norm = Model(val_x_norm)\n",
    "    val_loss = criterion(predicted_val_y_norm,val_y_norm)\n",
    "    \n",
    "    trainMeanAE = torch.mean(torch.abs(predicted_train_y_norm*y_std - train_y_norm*y_std))\n",
    "    valMeanAE = torch.mean(torch.abs(predicted_val_y_norm*y_std - val_y_norm*y_std))\n",
    "    if i % 100 == 0:\n",
    "        print('%.2e'%train_loss,'%.2e'%val_loss,'%.2e'%trainMeanAE,'%.2e'%valMeanAE)\n",
    "    if val_loss < best_val_loss:\n",
    "        best_val_loss = val_loss\n",
    "        torch.save(Model.state_dict(),'model.pth')"
   ]
  },
  {
   "cell_type": "markdown",
   "id": "fd2b8d10-81ed-44bf-b57b-64586b3980f2",
   "metadata": {},
   "source": [
    "### 가장 좋은 모델 부르기"
   ]
  },
  {
   "cell_type": "code",
   "execution_count": null,
   "id": "5e00b895-901b-41c7-b38c-83876113d45e",
   "metadata": {},
   "outputs": [],
   "source": [
    "Model.load_state_dict(torch.load('model.pth'))\n",
    "predicted_test_y_norm = Model(test_x_norm)\n",
    "predicted_test_y = predicted_test_y_norm*y_std+y_mean"
   ]
  },
  {
   "cell_type": "code",
   "execution_count": null,
   "id": "f79a03a9-e2aa-4c72-83b8-19e5abcc4bd9",
   "metadata": {},
   "outputs": [],
   "source": [
    "print(torch.sqrt(torch.mean((predicted_test_y-test_y)**2)))"
   ]
  },
  {
   "cell_type": "code",
   "execution_count": null,
   "id": "8896c25b-e043-40cd-b0f9-bab499445fc0",
   "metadata": {},
   "outputs": [],
   "source": [
    "import os\n",
    "os.environ[\"KMP_DUPLICATE_LIB_OK\"]=\"TRUE\"\n",
    "import matplotlib.pyplot as plt\n",
    "plt.scatter(predicted_test_y.detach().numpy(),test_y.detach().numpy(),s=10,edgecolor='k')\n",
    "plt.plot([0,100],[0,100],c='k')\n",
    "plt.xlim(0,38)\n",
    "plt.ylim(0,38)"
   ]
  },
  {
   "cell_type": "markdown",
   "id": "a51d66af-b6cc-467d-a5b8-930568b1d8fe",
   "metadata": {},
   "source": [
    "## 새로운 촉매 예측\n",
    "<img src=\"img/img2.png\" style=\"max-width: 800px;\">"
   ]
  },
  {
   "cell_type": "code",
   "execution_count": null,
   "id": "7b3daa0b-035a-4bcb-8907-61005110a623",
   "metadata": {},
   "outputs": [],
   "source": [
    "descriptors = ['Ag','Al','Ar','Au','B','Ba','Be','Bi','Br','C','Ca','Cd','Ce','Cl','Co','Cr','Cs','Cu','Dy','Er',\\\n",
    "               'Eu','F','Fe','Ga','Gd','Ge','Ho','I','In','K','La','Li','Lu','Mg','Mn','Mo','N','Na','Nb','Nd','Ni',\\\n",
    "               'P','Pb','Pd','Pr','Pt','Rb','Re','Rh','Ru','S','Sb','Sc','Si','Sm','Sn','Sr','Ta','Tb','Te','Th','Ti',\\\n",
    "               'Tm','V','W','Y','Yb','Zn','Zr','Promotor_B','Promotor_Br','Promotor_Cl','Promotor_F','Promotor_P',\\\n",
    "               'Promotor_S','Support_Si','Support_La','Support_Ti','Support_Dy','Support_Pr','Support_Mg','Support_Ca',\\\n",
    "               'Support_Zn','Support_Y','Support_Nd','Support_Ce','Support_Sm','Support_Al','Support_Tb','Support_C',\\\n",
    "               'Support_Yb','Support_Zr','Support_Co','Temperature, K','p(CH4), bar','p(O2), bar','p(CH4)/p(O2)',\\\n",
    "               'P total, bar','Contact time, s','Impregnation','Mech. mixing','Precipitation','Pyrolysis','Sol-gel','Therm.decomp.']\n",
    "\n",
    "x_to_test = [[0,0,0,0,0,0,0,0,0,0,0,0,0,0,0,0,0,0,0,0,0,0,0,0,0,0,0,0,0,0,0,0,0,0,0,\\\n",
    "             0,0,0,0,0,0,0,0,0,0,0,0,0,0,0,0,0,0,0,0,0,0,0,0,0,0,0,0,0,0,0,0,0,0,0,0,\\\n",
    "             0,0,0,0,0,0,0,0,0,0,0,0,0,0,0,0,0,0,0,0,0,0,1073,0.4,0.08,4.8,1,0.04,1,0,0,0,0,0]]\n",
    "x_to_test = np.array(x_to_test)"
   ]
  },
  {
   "cell_type": "markdown",
   "id": "0ea6e512-0dff-4559-a116-3347d81dd101",
   "metadata": {},
   "source": [
    "###  촉매 고르기\n",
    "여러가지 원소와 서포트 프로모터 등은 93번째 열까지 있다. 93번째까지 열의 합이 100이다. 여기서 랜덤하게 5개를 고르고 wt를100이 돼개 합을해보자."
   ]
  },
  {
   "cell_type": "code",
   "execution_count": null,
   "id": "b06b6792-36db-445f-af2f-5080be6480d5",
   "metadata": {},
   "outputs": [],
   "source": [
    "# https://numpy.org/doc/stable/reference/random/generated/numpy.random.choice.html\n",
    "idx = np.random.choice(93,size=5,replace=False)\n",
    "print(idx)"
   ]
  },
  {
   "cell_type": "code",
   "execution_count": null,
   "id": "1f4681bd-b582-4b6e-89c6-0690dbee03b6",
   "metadata": {},
   "outputs": [],
   "source": [
    "# 가장 큰 값 5개 찾기\n",
    "wt = np.random.random(5)\n",
    "print(wt)"
   ]
  },
  {
   "cell_type": "code",
   "execution_count": null,
   "id": "ea5b3eab-f36e-431a-a13d-ffa3f71aef60",
   "metadata": {},
   "outputs": [],
   "source": [
    "# 합이 100이 되게하기\n",
    "wt = wt/wt.sum()*100\n",
    "print(wt)"
   ]
  },
  {
   "cell_type": "code",
   "execution_count": null,
   "id": "bbe405d3-895b-462b-ab1d-79e01e22faf5",
   "metadata": {},
   "outputs": [],
   "source": [
    "x_to_test[0,idx] = wt\n",
    "print(x_to_test)"
   ]
  },
  {
   "cell_type": "code",
   "execution_count": null,
   "id": "a0f2cf5d-91ae-4870-b68c-82c313e1d6f1",
   "metadata": {},
   "outputs": [],
   "source": [
    "# Normalize\n",
    "x_to_test = torch.Tensor(x_to_test)\n",
    "x_to_test_norm = (x_to_test - x_mean)/x_std\n",
    "y_tested_norm = Model(x_to_test_norm)"
   ]
  },
  {
   "cell_type": "code",
   "execution_count": null,
   "id": "674bf8f7-f5b9-4da0-a297-82ec0061d511",
   "metadata": {},
   "outputs": [],
   "source": [
    "y_test = y_tested_norm*y_std + y_mean\n",
    "print(y_test)"
   ]
  },
  {
   "cell_type": "code",
   "execution_count": null,
   "id": "8df07f75-2cbb-4daf-8012-8008ae27d1df",
   "metadata": {},
   "outputs": [],
   "source": [
    "for _ in range(10):\n",
    "    x_to_test = [[0,0,0,0,0,0,0,0,0,0,0,0,0,0,0,0,0,0,0,0,0,0,0,0,0,0,0,0,0,0,0,0,0,0,0,\\\n",
    "             0,0,0,0,0,0,0,0,0,0,0,0,0,0,0,0,0,0,0,0,0,0,0,0,0,0,0,0,0,0,0,0,0,0,0,0,\\\n",
    "             0,0,0,0,0,0,0,0,0,0,0,0,0,0,0,0,0,0,0,0,0,0,1073,0.4,0.08,4.8,1,0.04,1,0,0,0,0,0]]\n",
    "    x_to_test = np.array(x_to_test)\n",
    "    idx = np.random.choice(93,size=5,replace=False)\n",
    "    wt = np.random.random(5)\n",
    "    wt = wt/wt.sum()*100\n",
    "    x_to_test[0,idx] = wt\n",
    "    x_to_test = torch.Tensor(x_to_test)\n",
    "    x_to_test_norm = (x_to_test - x_mean)/x_std\n",
    "    y_tested_norm = Model(x_to_test_norm)\n",
    "    y_test = y_tested_norm*y_std + y_mean\n",
    "    for i in range(5):\n",
    "        print(f'{wt[i]:.1f}% {descriptors[idx[i]]}',end=',')\n",
    "    print(f'\\n{y_test[0][0].tolist():.2f}% Yield\\n')\n",
    "    "
   ]
  },
  {
   "cell_type": "code",
   "execution_count": null,
   "id": "6d2fbddf-c292-4fbd-8597-213f5559f7c4",
   "metadata": {},
   "outputs": [],
   "source": []
  }
 ],
 "metadata": {
  "kernelspec": {
   "display_name": "Python 3 (ipykernel)",
   "language": "python",
   "name": "python3"
  },
  "language_info": {
   "codemirror_mode": {
    "name": "ipython",
    "version": 3
   },
   "file_extension": ".py",
   "mimetype": "text/x-python",
   "name": "python",
   "nbconvert_exporter": "python",
   "pygments_lexer": "ipython3",
   "version": "3.11.6"
  }
 },
 "nbformat": 4,
 "nbformat_minor": 5
}
