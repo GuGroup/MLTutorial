{
 "cells": [
  {
   "cell_type": "markdown",
   "id": "522d1986-8af7-4ff9-aed8-ee13b79d1459",
   "metadata": {},
   "source": [
    "# Linear model\n",
    "<img src=\"1img/img1.png\" style=\"max-width: 800px;\">"
   ]
  },
  {
   "cell_type": "code",
   "execution_count": null,
   "id": "dee7bd1e-2488-4ca8-aa36-855501fe0774",
   "metadata": {},
   "outputs": [],
   "source": [
    "import numpy as np\n",
    "x = np.array([1,2,3])\n",
    "y = np.array([1,2,3])\n",
    "theta = np.array([0.0,0.5])"
   ]
  },
  {
   "cell_type": "code",
   "execution_count": null,
   "id": "edc298f1-0b7a-47b8-b096-7df7597f8d5c",
   "metadata": {},
   "outputs": [],
   "source": [
    "def h(x,theta):\n",
    "    y = x*theta[1]\n",
    "    y += theta[0]\n",
    "    return y"
   ]
  },
  {
   "cell_type": "code",
   "execution_count": null,
   "id": "c01d44a4-6dc3-4e3b-92ba-70625680c09e",
   "metadata": {},
   "outputs": [],
   "source": [
    "yp_0 = h(x,theta)"
   ]
  },
  {
   "cell_type": "code",
   "execution_count": null,
   "id": "63b14379-8f52-46e8-8f2c-f384cc86566c",
   "metadata": {},
   "outputs": [],
   "source": [
    "import matplotlib.pyplot as plt\n",
    "plt.scatter(x,y,c='r')\n",
    "plt.scatter(x,yp_0,c='b')\n",
    "plt.xlabel('x')\n",
    "plt.ylabel('y')"
   ]
  },
  {
   "cell_type": "markdown",
   "id": "a9c4d17f-d036-457e-ae1a-c589f910426a",
   "metadata": {},
   "source": [
    "# Gradient descent\n",
    "<img src=\"1img/img2.png\" style=\"max-width: 800px;\">"
   ]
  },
  {
   "cell_type": "code",
   "execution_count": null,
   "id": "a5784b00-91c2-40c5-827c-5248353d03ea",
   "metadata": {},
   "outputs": [],
   "source": [
    "alpha = 0.1\n",
    "yp = h(x,theta)\n",
    "theta0 = theta[0] - alpha*(yp-y).mean()\n",
    "theta1 = theta[1] - alpha*((yp-y)*x).mean()\n",
    "theta = np.array([theta0,theta1])\n",
    "print(theta)"
   ]
  },
  {
   "cell_type": "code",
   "execution_count": null,
   "id": "1dfe6496-73a0-422b-9df4-2a95d7ea2f6d",
   "metadata": {},
   "outputs": [],
   "source": [
    "yp = h(x,theta)"
   ]
  },
  {
   "cell_type": "code",
   "execution_count": null,
   "id": "5a9715ce-97fb-4b34-94fa-1624f719407c",
   "metadata": {},
   "outputs": [],
   "source": [
    "import matplotlib.pyplot as plt\n",
    "plt.scatter(x,y,c='r')\n",
    "plt.scatter(x,yp_0,c='b')\n",
    "plt.scatter(x,yp,c='k')\n",
    "plt.xlabel('x')\n",
    "plt.ylabel('y')"
   ]
  },
  {
   "cell_type": "code",
   "execution_count": null,
   "id": "9de4049c-067b-460a-bc04-06092e0b16bf",
   "metadata": {},
   "outputs": [],
   "source": [
    "def gradient_descent(x,y,theta,alpha):\n",
    "    alpha = 0.1\n",
    "    yp = h(x,theta)\n",
    "    theta0 = theta[0] - alpha*(yp-y).mean()\n",
    "    theta1 = theta[1] - alpha*((yp-y)*x).mean()\n",
    "    theta = np.array([theta0,theta1])\n",
    "    return theta\n",
    "\n",
    "def plot(x,y,yp_0,yp):\n",
    "    plt.scatter(x,y,c='r')\n",
    "    plt.scatter(x,yp_0,c='b')\n",
    "    plt.scatter(x,yp,c='k')\n",
    "    plt.xlabel('x')\n",
    "    plt.ylabel('y')"
   ]
  },
  {
   "cell_type": "code",
   "execution_count": null,
   "id": "c27040e1-1d0a-4c02-91e8-984a81d423ac",
   "metadata": {},
   "outputs": [],
   "source": [
    "theta = gradient_descent(x,y,theta,alpha)\n",
    "yp = h(x,theta)\n",
    "plot(x,y,yp_0,yp)"
   ]
  },
  {
   "cell_type": "code",
   "execution_count": null,
   "id": "7544a077-9902-4e32-944c-541fda63aeaf",
   "metadata": {},
   "outputs": [],
   "source": [
    "for i in range(50):\n",
    "    theta = gradient_descent(x,y,theta,alpha)\n",
    "    yp = h(x,theta)\n",
    "plot(x,y,yp_0,yp)"
   ]
  },
  {
   "cell_type": "markdown",
   "id": "cbfdbead-dcee-4ff0-956d-21beb81498a8",
   "metadata": {},
   "source": [
    "## Feature Scaling\n",
    "<img src=\"1img/img3.png\" style=\"max-width: 800px;\">"
   ]
  },
  {
   "cell_type": "code",
   "execution_count": null,
   "id": "c365c6a2-a095-468c-b800-5a4479bd681c",
   "metadata": {},
   "outputs": [],
   "source": [
    "import numpy as np\n",
    "x = np.array([1,2,3])\n",
    "x_norm = (x - x.mean())/x.std()\n",
    "y = np.array([1,2,3])\n",
    "y_norm = (y - y.mean())/y.std()\n",
    "theta = np.array([0.0,0.5])\n",
    "yp_0 = h(z,theta)\n",
    "\n",
    "plt.scatter(z,y_norm,c='r')\n",
    "plt.scatter(z,yp_0,c='b')\n",
    "plt.xlabel('x')\n",
    "plt.ylabel('y')"
   ]
  },
  {
   "cell_type": "code",
   "execution_count": null,
   "id": "61501d59-780f-4321-9012-15c907dbf2b1",
   "metadata": {},
   "outputs": [],
   "source": [
    "for _ in range(50):\n",
    "    theta = gradient_descent(z,y_norm,theta,alpha)\n",
    "    yp = h(z,theta)\n",
    "\n",
    "plot(z,y_norm,yp_0,yp)"
   ]
  },
  {
   "cell_type": "markdown",
   "id": "53144df0-5005-4235-adca-6b0c42e38412",
   "metadata": {},
   "source": [
    "## Multiple linear regression using sklearn"
   ]
  },
  {
   "cell_type": "code",
   "execution_count": null,
   "id": "edaa0812-f717-4be7-8c45-de552bd801c2",
   "metadata": {},
   "outputs": [],
   "source": [
    "from sklearn.linear_model import LinearRegression"
   ]
  },
  {
   "cell_type": "code",
   "execution_count": null,
   "id": "c14a29e3-25a4-4b9a-a27c-86d96155e791",
   "metadata": {},
   "outputs": [],
   "source": [
    "import urllib.request\n",
    "urllib.request.urlretrieve(\"https://github.com/GuGroup/NNTutorial-2024-02-11-Winter-camp/raw/main/3MLLecture/Hydrocarbon.csv\", \"Hydrocarbon.csv\")\n",
    "import pandas as pd\n",
    "df = pd.read_csv('Hydrocarbon.csv')\n",
    "df.head()"
   ]
  },
  {
   "cell_type": "code",
   "execution_count": null,
   "id": "c59f7934-69f5-4d7e-9756-62db81f22bb9",
   "metadata": {},
   "outputs": [],
   "source": [
    "data = df.to_numpy()\n",
    "x = data[:,2:]\n",
    "y = data[:,1]"
   ]
  },
  {
   "cell_type": "code",
   "execution_count": null,
   "id": "5028b835-eaf5-493c-92b1-536b8225fb83",
   "metadata": {},
   "outputs": [],
   "source": [
    "h = LinearRegression()"
   ]
  },
  {
   "cell_type": "code",
   "execution_count": null,
   "id": "89673cbb-09fa-4040-bbe6-4c0010a33f04",
   "metadata": {},
   "outputs": [],
   "source": [
    "h.fit(x,y)"
   ]
  },
  {
   "cell_type": "code",
   "execution_count": null,
   "id": "572860aa-7c8e-4244-ae72-30ad17d9531b",
   "metadata": {},
   "outputs": [],
   "source": [
    "yp = h.predict(x)"
   ]
  },
  {
   "cell_type": "code",
   "execution_count": null,
   "id": "f5585be4-e7d2-48a3-8475-b06cf8372702",
   "metadata": {},
   "outputs": [],
   "source": [
    "print(y[:5])"
   ]
  },
  {
   "cell_type": "code",
   "execution_count": null,
   "id": "5f3d1a8b-7367-4cb3-a4f4-d781d5190cbb",
   "metadata": {},
   "outputs": [],
   "source": [
    "print(yp[:5])"
   ]
  }
 ],
 "metadata": {
  "kernelspec": {
   "display_name": "Python 3 (ipykernel)",
   "language": "python",
   "name": "python3"
  },
  "language_info": {
   "codemirror_mode": {
    "name": "ipython",
    "version": 3
   },
   "file_extension": ".py",
   "mimetype": "text/x-python",
   "name": "python",
   "nbconvert_exporter": "python",
   "pygments_lexer": "ipython3",
   "version": "3.11.6"
  }
 },
 "nbformat": 4,
 "nbformat_minor": 5
}
