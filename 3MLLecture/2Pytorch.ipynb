{
 "cells": [
  {
   "cell_type": "markdown",
   "id": "472bff52-7085-4532-861a-7dce159f77fd",
   "metadata": {},
   "source": [
    "## Pytorch Forward model\n",
    "<img src=\"2img/img1.png\" style=\"max-width: 800px;\">"
   ]
  },
  {
   "cell_type": "code",
   "execution_count": null,
   "id": "82343ed3-8634-4340-8844-e222e6e82e70",
   "metadata": {},
   "outputs": [],
   "source": [
    "import torch\n",
    "x = torch.Tensor([1,2,3])\n",
    "print(x)"
   ]
  },
  {
   "cell_type": "code",
   "execution_count": null,
   "id": "3c703ec0-391f-4ef9-b093-1edadbb88d1e",
   "metadata": {},
   "outputs": [],
   "source": [
    "import torch.nn as nn\n",
    "Layer1 = nn.Linear(3,3) # input and output dimension\n",
    "print(Layer1)"
   ]
  },
  {
   "cell_type": "code",
   "execution_count": null,
   "id": "7e4ffb35-f4dd-4547-876e-5edfdc38624e",
   "metadata": {},
   "outputs": [],
   "source": [
    "z2 = Layer1(x)\n",
    "print(z2)"
   ]
  },
  {
   "cell_type": "code",
   "execution_count": null,
   "id": "a56120e9-63d1-4afb-b647-ea83fc63f9cd",
   "metadata": {},
   "outputs": [],
   "source": [
    "a2 = torch.sigmoid(z2)\n",
    "print(a2)"
   ]
  },
  {
   "cell_type": "code",
   "execution_count": null,
   "id": "7d9f4b37-6ab6-4eb9-862c-16cf20f915bb",
   "metadata": {},
   "outputs": [],
   "source": [
    "import torch.nn as nn\n",
    "OutputLayer = nn.Linear(3,1) # input and output dimension\n",
    "h = OutputLayer(x)\n",
    "print(h)"
   ]
  },
  {
   "cell_type": "code",
   "execution_count": null,
   "id": "61f90c65-0731-48eb-a203-fd55140a6867",
   "metadata": {},
   "outputs": [],
   "source": [
    "Layer1 = nn.Linear(3,3) # input and output dimension\n",
    "Layer2 = nn.Linear(3,3) # input and output dimension\n",
    "Layer3 = nn.Linear(3,3) # input and output dimension\n",
    "Layer4 = nn.Linear(3,1) # input and output dimension\n",
    "\n",
    "x = torch.Tensor([1,2,3])\n",
    "a2 = torch.sigmoid(Layer1(x))\n",
    "a3 = torch.sigmoid(Layer2(x))\n",
    "a4 = torch.sigmoid(Layer3(x))\n",
    "h = torch.sigmoid(Layer4(x))\n",
    "print(h)"
   ]
  },
  {
   "cell_type": "markdown",
   "id": "95e3ea0f-cf40-40e9-8026-3ddbddd7cc8d",
   "metadata": {},
   "source": [
    "## Backpropagation"
   ]
  },
  {
   "cell_type": "code",
   "execution_count": null,
   "id": "d7f774ef-7274-4867-9334-653ffabf46cf",
   "metadata": {},
   "outputs": [],
   "source": [
    "x = torch.Tensor([[1],[2],[3]])\n",
    "y = torch.Tensor([[1],[2],[3]])\n",
    "Layer1 = nn.Linear(1,1)"
   ]
  },
  {
   "cell_type": "code",
   "execution_count": null,
   "id": "bd197a7a-8f62-43db-b8a6-1334d72e5222",
   "metadata": {},
   "outputs": [],
   "source": [
    "print(torch.Tensor([[1],[2],[3]]).shape)\n",
    "print(torch.Tensor([1,2,3]).shape)\n"
   ]
  },
  {
   "cell_type": "markdown",
   "id": "82825d19-296c-4d21-a3c8-0aff5bb5f93e",
   "metadata": {},
   "source": [
    "$X\\in\\mathbb{R}^{ndata \\times nx} $\\\n",
    "$\\theta\\in\\mathbb{R}^{in\\times out}$"
   ]
  },
  {
   "cell_type": "code",
   "execution_count": null,
   "id": "638f9d4f-a988-4292-bc88-37a3d861c99d",
   "metadata": {},
   "outputs": [],
   "source": [
    "yp = Layer1(x)\n",
    "print(yp)"
   ]
  },
  {
   "cell_type": "code",
   "execution_count": null,
   "id": "65d50a2e-74b1-4dc6-bb63-5f8f54e9f4af",
   "metadata": {},
   "outputs": [],
   "source": [
    "criterion = torch.nn.MSELoss()\n",
    "optimizer = torch.optim.Adam(Layer1.parameters(),0.01)"
   ]
  },
  {
   "cell_type": "code",
   "execution_count": null,
   "id": "136aafc7-e358-4454-b224-3d2dbe354f67",
   "metadata": {},
   "outputs": [],
   "source": [
    "yp = Layer1(x)\n",
    "loss = criterion(y,yp)\n",
    "optimizer.zero_grad()\n",
    "loss.backward()\n",
    "optimizer.step()"
   ]
  },
  {
   "cell_type": "code",
   "execution_count": null,
   "id": "f2f8066c-8d4c-48e8-b4d5-98e0539a9f26",
   "metadata": {},
   "outputs": [],
   "source": [
    "yp = Layer1(x)\n",
    "print(yp)"
   ]
  },
  {
   "cell_type": "code",
   "execution_count": null,
   "id": "72080b32-aa93-4d3c-8db4-354b78c55683",
   "metadata": {},
   "outputs": [],
   "source": [
    "for i in range(1000):\n",
    "    yp = Layer1(x)\n",
    "    loss = criterion(y,yp)\n",
    "    optimizer.zero_grad()\n",
    "    loss.backward()\n",
    "    optimizer.step()\n",
    "\n",
    "print(yp)"
   ]
  },
  {
   "cell_type": "markdown",
   "id": "4c227c97-6dda-4b22-af92-bd5302f1f2b6",
   "metadata": {},
   "source": [
    "## 풀 모델\n",
    "### 데이터"
   ]
  },
  {
   "cell_type": "code",
   "execution_count": null,
   "id": "a1ff5655-5069-4a0a-80dc-3cfb54d10a6b",
   "metadata": {},
   "outputs": [],
   "source": [
    "import pandas as pd\n",
    "df = pd.read_csv('FuelCell.csv')\n",
    "df.head()"
   ]
  },
  {
   "cell_type": "code",
   "execution_count": null,
   "id": "d24f4edf-f38a-4397-88f3-8635e9b87cb6",
   "metadata": {},
   "outputs": [],
   "source": [
    "data = df.to_numpy()\n",
    "y = data[:,:1]\n",
    "x = data[:,1:]\n",
    "y = torch.Tensor(y)\n",
    "x = torch.Tensor(x)"
   ]
  },
  {
   "cell_type": "markdown",
   "id": "1642e15b-9074-41f1-8878-350a335b5484",
   "metadata": {},
   "source": [
    "### Normalization"
   ]
  },
  {
   "cell_type": "code",
   "execution_count": null,
   "id": "1b797611-8410-4347-9588-c4e2781392b2",
   "metadata": {},
   "outputs": [],
   "source": [
    "print(x.shape)\n",
    "print(x.mean(0))\n",
    "print(x.std(0))"
   ]
  },
  {
   "cell_type": "code",
   "execution_count": null,
   "id": "62713f30-2153-4202-87e0-d1a490097861",
   "metadata": {},
   "outputs": [],
   "source": [
    "xmean = x.mean(0)\n",
    "xstd = x.std(0)\n",
    "x_norm = (x-xmean)/xstd\n",
    "ymean = y.mean()\n",
    "ystd = y.std()\n",
    "y_norm = (y-ymean)/ystd"
   ]
  },
  {
   "cell_type": "markdown",
   "id": "75f266d0-b7e7-4f22-b248-99e2529c5f61",
   "metadata": {},
   "source": [
    "### Model"
   ]
  },
  {
   "cell_type": "code",
   "execution_count": null,
   "id": "8512ac39-b7a8-43ec-be20-6f484ca3d901",
   "metadata": {},
   "outputs": [],
   "source": [
    "class NeuralNetwork(torch.nn.Module):\n",
    "    def __init__(self):\n",
    "        super(NeuralNetwork, self).__init__()\n",
    "        self.Layer1 = torch.nn.Linear( 4, 32)\n",
    "        self.Layer2 = torch.nn.Linear(32, 32)\n",
    "        self.Layer3 = torch.nn.Linear(32, 1)\n",
    "        self.act = torch.nn.Softplus()\n",
    "        \n",
    "    def forward(self, x):\n",
    "        x = self.Layer1(x)\n",
    "        x = self.act(x)\n",
    "        x = self.Layer2(x)\n",
    "        x = self.act(x)\n",
    "        y = self.Layer3(x)\n",
    "        return y"
   ]
  },
  {
   "cell_type": "code",
   "execution_count": null,
   "id": "fc1c8cfb-6e42-4ba2-8967-6c8d02b046c2",
   "metadata": {},
   "outputs": [],
   "source": [
    "model = NeuralNetwork()\n",
    "criterion = torch.nn.MSELoss()\n",
    "optimizer = torch.optim.Adam(model.parameters(),0.001)"
   ]
  },
  {
   "cell_type": "code",
   "execution_count": null,
   "id": "2b64945d-a435-4367-a8f9-84194f8694b2",
   "metadata": {},
   "outputs": [],
   "source": [
    "for i in range(1000):\n",
    "    yp_norm = model(x_norm)\n",
    "    loss = criterion(y_norm,yp_norm)\n",
    "    optimizer.zero_grad()\n",
    "    loss.backward()\n",
    "    optimizer.step()"
   ]
  },
  {
   "cell_type": "code",
   "execution_count": null,
   "id": "a173d8e5-eef1-47af-9556-ed2efe9a44bf",
   "metadata": {},
   "outputs": [],
   "source": [
    "yp = yp_norm*ystd + ymean\n",
    "print(yp[:14])"
   ]
  },
  {
   "cell_type": "code",
   "execution_count": null,
   "id": "b9099d9f-a8c8-4b83-a2c2-3e0bf1c80094",
   "metadata": {},
   "outputs": [],
   "source": [
    "print(y[:14])"
   ]
  },
  {
   "cell_type": "code",
   "execution_count": null,
   "id": "1d3b9172-c97d-4294-9ab3-1ec10ee94d18",
   "metadata": {},
   "outputs": [],
   "source": [
    "df.head(16)"
   ]
  },
  {
   "cell_type": "code",
   "execution_count": null,
   "id": "818c45c2-8bc9-4901-a3f6-22d6ee1f629f",
   "metadata": {},
   "outputs": [],
   "source": [
    "import os\n",
    "os.environ['KMP_DUPLICATE_LIB_OK']='True'\n",
    "import matplotlib.pyplot as plt\n",
    "plt.scatter(x[:14,0],y[:14,0])\n",
    "plt.plot(x[:14,0],yp[:14,0].detach().numpy())"
   ]
  }
 ],
 "metadata": {
  "kernelspec": {
   "display_name": "Python 3 (ipykernel)",
   "language": "python",
   "name": "python3"
  },
  "language_info": {
   "codemirror_mode": {
    "name": "ipython",
    "version": 3
   },
   "file_extension": ".py",
   "mimetype": "text/x-python",
   "name": "python",
   "nbconvert_exporter": "python",
   "pygments_lexer": "ipython3",
   "version": "3.11.6"
  }
 },
 "nbformat": 4,
 "nbformat_minor": 5
}
