{
  "nbformat": 4,
  "nbformat_minor": 0,
  "metadata": {
    "colab": {
      "provenance": []
    },
    "kernelspec": {
      "name": "python3",
      "display_name": "Python 3"
    },
    "language_info": {
      "name": "python"
    }
  },
  "cells": [
    {
      "cell_type": "markdown",
      "source": [
        "## 파이썬 튜토리얼\n",
        "파이썬은 많은 과학자들에 사용되고 있는 언어이다.\n",
        "\n",
        "대부분의 기계학습 모델들은 Tensorflow와 pytorch등의 패키지를 사용하여 구현되고있다.\n",
        "\n",
        "이 노트북은 python의 기초 및 numpy, matplotlib, pandas를 가볍게 설명한다."
      ],
      "metadata": {
        "id": "P5XPXxC5G7zJ"
      }
    },
    {
      "cell_type": "markdown",
      "source": [
        "## 1. 변수\n",
        "\n",
        "변수를 정의하는 법.\n",
        "\n",
        "변수 정의란 이름에 값을 붙이는 일이라고 생각하면 좋다.\n",
        "\n",
        "예를 들자면, A 라는 이름에 1 이라는 값을 붙이는 일이다.\n",
        "\n",
        "\n",
        "\n",
        "파이썬 (및 대부분의 언어) 는 왼쪽에 변수 이름, 오른쪽에 변수 값을 기입한다."
      ],
      "metadata": {
        "id": "qyeZ5DMLHQJ6"
      }
    },
    {
      "cell_type": "code",
      "source": [
        "# 왼쪽에 변수 이름, 오른쪽에 변수 값\n",
        "A = 1"
      ],
      "metadata": {
        "id": "176QmGd_IFNZ"
      },
      "execution_count": null,
      "outputs": []
    },
    {
      "cell_type": "markdown",
      "source": [
        "이제 A라는 이름은 이 코드 내에서 영원히 1의 값을 가지게 된다. (수정하지 않으면 ...)\n"
      ],
      "metadata": {
        "id": "YIvWDoeFIMyF"
      }
    },
    {
      "cell_type": "code",
      "source": [
        "print(A)"
      ],
      "metadata": {
        "colab": {
          "base_uri": "https://localhost:8080/"
        },
        "id": "FAf_FJJAI4dw",
        "outputId": "09fe18f8-bd1e-4306-8b92-9ee48dcbab4a"
      },
      "execution_count": null,
      "outputs": [
        {
          "output_type": "stream",
          "name": "stdout",
          "text": [
            "1\n"
          ]
        }
      ]
    },
    {
      "cell_type": "markdown",
      "source": [
        "B의 이름에 2라는 값을 붙여보자."
      ],
      "metadata": {
        "id": "UgryoFowI7JA"
      }
    },
    {
      "cell_type": "code",
      "source": [
        "# B 의 이름에 2 를 붙여보자.\n",
        "# 왼쪽에 변수 이름, 오른쪽에 변수 값"
      ],
      "metadata": {
        "id": "Aw_bO8XJImAT"
      },
      "execution_count": null,
      "outputs": []
    },
    {
      "cell_type": "code",
      "source": [
        "print(B)"
      ],
      "metadata": {
        "id": "AjkC7Y9aJDOc"
      },
      "execution_count": null,
      "outputs": []
    },
    {
      "cell_type": "markdown",
      "source": [
        "## 2. 타입"
      ],
      "metadata": {
        "id": "peuI2B3kJQGe"
      }
    },
    {
      "cell_type": "markdown",
      "source": [
        "파이썬에서 주로 사용하는 변수의\n",
        "\n",
        "\"타입\"\n",
        "\n",
        "은 네가지이다.\n",
        "\n",
        "int (integer, 정수)\n",
        "\n",
        "float (floating point, 소수)\n",
        "\n",
        "str (string, 글)\n",
        "\n",
        "bool (boolean, 참-거짓)\n",
        "\n",
        "첫번째로 int 에 대해 살펴보자.\n",
        "\n"
      ],
      "metadata": {
        "id": "ntjpNYCmJZ9a"
      }
    },
    {
      "cell_type": "markdown",
      "source": [
        "## 2.1 int\n",
        "\n",
        "int 는 말 그대로 정수이다.\n",
        "\n",
        "-, 0, + 의 값을 지닌 숫자들..\n",
        "\n",
        "파이썬에서 int 타입의 변수를 정의하는 방법은 다음과 같다."
      ],
      "metadata": {
        "id": "sCYFlTh6J47N"
      }
    },
    {
      "cell_type": "code",
      "source": [
        "# 왼쪽에 변수 이름, 오른쪽에 변수 값\n",
        "C = 3"
      ],
      "metadata": {
        "id": "hDEBbZidKtRM"
      },
      "execution_count": null,
      "outputs": []
    },
    {
      "cell_type": "markdown",
      "source": [
        "위의 과정과 동일하다.\n",
        "\n",
        "오른쪽 변수 값에 정수가 들어간다면 자동으로 C는 int 타입인 변수가 되게 된다.\n",
        "\n",
        "그렇다면 어떻게 C 가 int 타입인지 확신할 수 있을까 ?\n",
        "\n",
        "방법은 아래와 같다."
      ],
      "metadata": {
        "id": "9DlVjEvsK2z0"
      }
    },
    {
      "cell_type": "code",
      "source": [
        "type(C)"
      ],
      "metadata": {
        "colab": {
          "base_uri": "https://localhost:8080/"
        },
        "id": "rjV64Uz6LGfb",
        "outputId": "4533f883-5785-4d48-e9c6-5a715c07e0ca"
      },
      "execution_count": null,
      "outputs": [
        {
          "output_type": "execute_result",
          "data": {
            "text/plain": [
              "int"
            ]
          },
          "metadata": {},
          "execution_count": 4
        }
      ]
    },
    {
      "cell_type": "markdown",
      "source": [
        "위에서 정의한 A 와 B 의 타입도 확인해 보자"
      ],
      "metadata": {
        "id": "pHgelDU5LRxO"
      }
    },
    {
      "cell_type": "code",
      "source": [
        "# A의 타입을 확인해 보아요 (힌트 있는 상태임)\n",
        "type()\n",
        "# B의 타입을 확인해 보아요 (힌트 없는 상태임)"
      ],
      "metadata": {
        "colab": {
          "base_uri": "https://localhost:8080/",
          "height": 173
        },
        "id": "dSwfc3UdLVVW",
        "outputId": "a8de7e29-7bcf-43e5-ec73-2f05b8197bae"
      },
      "execution_count": null,
      "outputs": [
        {
          "output_type": "error",
          "ename": "TypeError",
          "evalue": "type() takes 1 or 3 arguments",
          "traceback": [
            "\u001b[0;31m---------------------------------------------------------------------------\u001b[0m",
            "\u001b[0;31mTypeError\u001b[0m                                 Traceback (most recent call last)",
            "\u001b[0;32m<ipython-input-5-e37365e25f9f>\u001b[0m in \u001b[0;36m<cell line: 0>\u001b[0;34m()\u001b[0m\n\u001b[1;32m      1\u001b[0m \u001b[0;31m# A의 타입을 확인해 보아요 (힌트 있는 상태임)\u001b[0m\u001b[0;34m\u001b[0m\u001b[0;34m\u001b[0m\u001b[0m\n\u001b[0;32m----> 2\u001b[0;31m \u001b[0mtype\u001b[0m\u001b[0;34m(\u001b[0m\u001b[0;34m)\u001b[0m\u001b[0;34m\u001b[0m\u001b[0;34m\u001b[0m\u001b[0m\n\u001b[0m\u001b[1;32m      3\u001b[0m \u001b[0;31m# B의 타입을 확인해 보아요 (힌트 없는 상태임)\u001b[0m\u001b[0;34m\u001b[0m\u001b[0;34m\u001b[0m\u001b[0m\n",
            "\u001b[0;31mTypeError\u001b[0m: type() takes 1 or 3 arguments"
          ]
        }
      ]
    },
    {
      "cell_type": "markdown",
      "source": [
        "## 2.2 float\n",
        "\n",
        "float 은 소수점 아래에 숫자를 가지고 있는 값을 정의할 때 사용하는 타입이다.\n",
        "\n",
        "파이썬에서 float 타입의 값을 정의하는 방법은 다음과 같다.\n"
      ],
      "metadata": {
        "id": "WSSASEm8LgzN"
      }
    },
    {
      "cell_type": "code",
      "source": [
        "aa = 1.5"
      ],
      "metadata": {
        "id": "Z4A_jGfVLu6w"
      },
      "execution_count": null,
      "outputs": []
    },
    {
      "cell_type": "markdown",
      "source": [
        "위와 같이 bb 에 2.5 의 값을 정의해 보자."
      ],
      "metadata": {
        "id": "N8kvi5isMunI"
      }
    },
    {
      "cell_type": "code",
      "source": [
        "# bb의 이름에 에 2.5의 값을 정의해 보아요\n"
      ],
      "metadata": {
        "id": "pfr8fSAfMm63"
      },
      "execution_count": null,
      "outputs": []
    },
    {
      "cell_type": "markdown",
      "source": [
        "역시 오른쪽 값에 소수점 아래 숫자를 가진 값이 들어간다면 자동으로 aa는 float 타입의 변수가 되게 된다.\n",
        "\n",
        "한번 확인해보자."
      ],
      "metadata": {
        "id": "YY3F9GfGLy1E"
      }
    },
    {
      "cell_type": "code",
      "source": [
        "# aa의 타입을 확인해 보아요\n"
      ],
      "metadata": {
        "id": "F2mJnTIXMBQY"
      },
      "execution_count": null,
      "outputs": []
    },
    {
      "cell_type": "markdown",
      "source": [
        "## 2.3 string\n",
        "\n",
        "string은 문자열의 값을 정의할 때 사용하는 타입이다.\n",
        "\n",
        "(문자열이란 hello world 같이 알파벳 등으로 이루어진 값을 의미한다.)\n",
        "\n",
        "파이썬에서 string 타입의 값을 정의하는 방법은 다음과 같다."
      ],
      "metadata": {
        "id": "Ol0ZM55eMQZK"
      }
    },
    {
      "cell_type": "code",
      "source": [
        "aaa = \"hello world\""
      ],
      "metadata": {
        "id": "1hwlvR5JM7E1"
      },
      "execution_count": null,
      "outputs": []
    },
    {
      "cell_type": "markdown",
      "source": [
        "위의 int, float 과 다르게 따옴표를 문자열의 좌 우에 넣어주어야 한다.\n",
        "\n",
        "bbb에 bye world 의 문자열을 정의해보자."
      ],
      "metadata": {
        "id": "dTGa3lbRM-Fi"
      }
    },
    {
      "cell_type": "code",
      "source": [
        "# bbb의 이름에 bye world의 문자열을 정의해 보아요\n"
      ],
      "metadata": {
        "id": "vkBJp3lvNMzx"
      },
      "execution_count": null,
      "outputs": []
    },
    {
      "cell_type": "markdown",
      "source": [
        "aaa의 타입을 확인해보자."
      ],
      "metadata": {
        "id": "GrYmsC1MNT5N"
      }
    },
    {
      "cell_type": "code",
      "source": [
        "# aaa의 타입을 확인해보아요\n"
      ],
      "metadata": {
        "id": "3H0fG7iwNf-G"
      },
      "execution_count": null,
      "outputs": []
    },
    {
      "cell_type": "markdown",
      "source": [
        "## 2.4 bool\n",
        "\n",
        "bool 은 참, 거짓의 값을 정의할 때 사용하는 타입이다.\n",
        "\n",
        "파이썬에서 bool 타입의 값을 정의하는 방법은 다음과 같다."
      ],
      "metadata": {
        "id": "U2wB8norNz5p"
      }
    },
    {
      "cell_type": "code",
      "source": [
        "aaaa = True\n",
        "bbbb = False"
      ],
      "metadata": {
        "id": "n9KKMerFN9Hk"
      },
      "execution_count": null,
      "outputs": []
    },
    {
      "cell_type": "markdown",
      "source": [
        "따옴표 없이 True, False 를 써주면 된다.\n",
        "cccc에 True 를 정의해보자"
      ],
      "metadata": {
        "id": "nWZezNJXOApS"
      }
    },
    {
      "cell_type": "code",
      "source": [
        "# cccc에 True 를 정의해보아요"
      ],
      "metadata": {
        "id": "EUq8rPSVOFcC"
      },
      "execution_count": null,
      "outputs": []
    },
    {
      "cell_type": "markdown",
      "source": [
        "aaaa의 타입을 확인해보자."
      ],
      "metadata": {
        "id": "fIfTSQEDOSsP"
      }
    },
    {
      "cell_type": "code",
      "source": [
        "# aaaa의 타입을 확인해보아요\n"
      ],
      "metadata": {
        "id": "wz_CB8CNOXK7"
      },
      "execution_count": null,
      "outputs": []
    },
    {
      "cell_type": "markdown",
      "source": [
        "다양한 방법으로 bool을 만들어 낼 수 있다.\n",
        "\n",
        "예를 들면\n",
        "a 가 1이고, b 가 1일 때,\n",
        "a 와 b가 같은가? 라고 물어보면 정답은 True 이다.\n",
        "이를 코드화 하면,"
      ],
      "metadata": {
        "id": "MlCERhgjYk41"
      }
    },
    {
      "cell_type": "code",
      "source": [
        "a = 1\n",
        "b = 1\n",
        "a == b"
      ],
      "metadata": {
        "colab": {
          "base_uri": "https://localhost:8080/"
        },
        "id": "wpM8LmaRY0ay",
        "outputId": "83c7d208-24fa-4198-d026-0e2bb2af1779"
      },
      "execution_count": null,
      "outputs": [
        {
          "output_type": "execute_result",
          "data": {
            "text/plain": [
              "True"
            ]
          },
          "metadata": {},
          "execution_count": 17
        }
      ]
    },
    {
      "cell_type": "markdown",
      "source": [
        "== 을 통해 둘이 같은지 확인할 수 있다.\n",
        "그리고 결과는 bool을 통해 산출된다.\n",
        "\n",
        "== 외에도 !=, >=, <=, >, < 등의 다양한 \"연산자\" 가 존재한다.\n",
        "\n",
        "관심이 있다면 구근호 교수님의 랩실에 진학하여 깊게 확인해보자. . ."
      ],
      "metadata": {
        "id": "bgIBcJM3Y3kx"
      }
    },
    {
      "cell_type": "markdown",
      "source": [
        "# 2.5 Exercise\n",
        "\n",
        "만약 당신이 병원 원무과에서 환자를 맞이하는 일을 하게 된다면,\n",
        "\n",
        "환자의 키, 나이, 이름, 병원 방문 경험 을 데이터화 해야만 할 것이다.\n",
        "\n",
        "나이(age): 28 (int)\n",
        "\n",
        "키(height): 185.6 (float)\n",
        "\n",
        "이름(name): Jake (str)\n",
        "\n",
        "병원 방문 경험(hospital): True (bool)\n",
        "\n",
        "인 환자의 데이터를 코드 내에 영원히 기록시켜보자."
      ],
      "metadata": {
        "id": "JQZnA7cuOcvX"
      }
    },
    {
      "cell_type": "code",
      "source": [
        "# height, age, name, hospital\n",
        "# int 정의: a = 1\n",
        "# float 정의: aa = 1.5\n",
        "# str 정의: aaa = \"hello world\"\n",
        "# bool 정의: aaaa = True"
      ],
      "metadata": {
        "id": "MyrYdpznPaqq"
      },
      "execution_count": null,
      "outputs": []
    },
    {
      "cell_type": "markdown",
      "source": [
        "# 2.6 type 사이 연산\n",
        "\n",
        "일반적으로 파이썬에서, 다른 type의 변수는 연산이 불가능하다.\n",
        "\n"
      ],
      "metadata": {
        "id": "3Sf_6U7_UQ5d"
      }
    },
    {
      "cell_type": "code",
      "source": [
        "a = 1\n",
        "b = \"hi\"\n",
        "\n",
        "a + b"
      ],
      "metadata": {
        "colab": {
          "base_uri": "https://localhost:8080/",
          "height": 173
        },
        "id": "281WTHm3UaQz",
        "outputId": "f15b0896-e7fa-4f2c-df6d-723181f67077"
      },
      "execution_count": null,
      "outputs": [
        {
          "output_type": "error",
          "ename": "TypeError",
          "evalue": "unsupported operand type(s) for +: 'int' and 'str'",
          "traceback": [
            "\u001b[0;31m---------------------------------------------------------------------------\u001b[0m",
            "\u001b[0;31mTypeError\u001b[0m                                 Traceback (most recent call last)",
            "\u001b[0;32m<ipython-input-9-6204f3990f95>\u001b[0m in \u001b[0;36m<cell line: 0>\u001b[0;34m()\u001b[0m\n\u001b[1;32m      2\u001b[0m \u001b[0mb\u001b[0m \u001b[0;34m=\u001b[0m \u001b[0;34m\"hi\"\u001b[0m\u001b[0;34m\u001b[0m\u001b[0;34m\u001b[0m\u001b[0m\n\u001b[1;32m      3\u001b[0m \u001b[0;34m\u001b[0m\u001b[0m\n\u001b[0;32m----> 4\u001b[0;31m \u001b[0ma\u001b[0m\u001b[0;34m+\u001b[0m\u001b[0mb\u001b[0m\u001b[0;34m\u001b[0m\u001b[0;34m\u001b[0m\u001b[0m\n\u001b[0m",
            "\u001b[0;31mTypeError\u001b[0m: unsupported operand type(s) for +: 'int' and 'str'"
          ]
        }
      ]
    },
    {
      "cell_type": "markdown",
      "source": [
        "위 모습은 int 타입 변수와 str 타입 변수를 더하려 하니 못더하겠다 하는 오류가 발생한 상황이다.\n",
        "\n",
        "이와 같이 연산을 하고자 한다면 같은 type 끼리 연산을 하는게 좋다.\n",
        "\n",
        "물론 예외는 존재한다.\n",
        "\n",
        "int 타입과 float 타입 사이의 연산이 예시이다."
      ],
      "metadata": {
        "id": "jkD3QbsbUfPS"
      }
    },
    {
      "cell_type": "code",
      "source": [
        "a = 1\n",
        "b = 1.1\n",
        "c = a + b\n",
        "\n",
        "print(\"c is: \", c)\n",
        "print(\"type of c is: \", type(c))"
      ],
      "metadata": {
        "colab": {
          "base_uri": "https://localhost:8080/"
        },
        "id": "IjamhK40Uw6a",
        "outputId": "aa6b1fdb-a490-424a-d9b4-d7e41440978d"
      },
      "execution_count": null,
      "outputs": [
        {
          "output_type": "stream",
          "name": "stdout",
          "text": [
            "c is:  2.1\n",
            "type of c is:  <class 'float'>\n"
          ]
        }
      ]
    },
    {
      "cell_type": "markdown",
      "source": [
        "# 3. 디버그\n",
        "\n",
        "프로그래밍의 깊은 즐거움..\n",
        "\n",
        "디버그이다.\n",
        "\n",
        "위에서 배운 type 들 사이의 연산을 통해 즐거운 디버깅을 체험해보자."
      ],
      "metadata": {
        "id": "iXh4WlVDUFRH"
      }
    },
    {
      "cell_type": "code",
      "source": [
        "# 고쳐 보아요\n",
        "birth_year = '1996'\n",
        "Age = 2025 - birth_year\n",
        "print(Age)"
      ],
      "metadata": {
        "id": "Vn6-NL1OVPe2"
      },
      "execution_count": null,
      "outputs": []
    },
    {
      "cell_type": "markdown",
      "source": [
        "# 4. 조건문, 반복문\n",
        "\n",
        "if, for, while 등을 통해 기초적인 알고리즘을 만들어\n",
        "\n",
        "노가다 해야 했던 일들을 순식간에 해치울 수 있다."
      ],
      "metadata": {
        "id": "1Iu-2e3PVfbb"
      }
    },
    {
      "cell_type": "markdown",
      "source": [
        "# 4.1 if\n",
        "\n",
        "만약. . .\n",
        "\n",
        "말 그대로 만약이다.\n",
        "\n",
        "위에서 언급한 bool 을 통해 사용할 수 있다.\n",
        "\n",
        "\"만약 사실이라면, 일을 진행하도록 하지\"\n",
        "\n",
        "의 느낌이다. 사용 예시를 확인해 보자."
      ],
      "metadata": {
        "id": "bSiXOks9VyDj"
      }
    },
    {
      "cell_type": "code",
      "source": [
        "if True: # 만약 사실이라면..\n",
        "  print(1) # 1을 프린트 하도록 하지..\n",
        "\n",
        "if False: # 만약 사실이라면.. 인데 거짓이니..\n",
        "  print(0) # 0은 프린트 하지 않도록 하지.."
      ],
      "metadata": {
        "colab": {
          "base_uri": "https://localhost:8080/"
        },
        "id": "gwiv6BIKWKZF",
        "outputId": "cb7c11cb-a9d8-4710-cce4-c2ecd4b4aff9"
      },
      "execution_count": null,
      "outputs": [
        {
          "output_type": "stream",
          "name": "stdout",
          "text": [
            "1\n"
          ]
        }
      ]
    },
    {
      "cell_type": "markdown",
      "source": [
        "1 은 프린트 되었으나, 0은 프린트 되지 않았다.\n",
        "\n",
        "if 뒤에 사실이여야 일이 진행되기 때문이다.\n",
        "\n",
        "구체적인 사용 방법은 아래 코드를 참고하자"
      ],
      "metadata": {
        "id": "J7G1F8FzWjxH"
      }
    },
    {
      "cell_type": "code",
      "source": [
        "# 먼저 if 를 쓰고,\n",
        "# 띄어쓰기 후 True 나 False 를 쓰고 : 를 붙여줍니다.\n",
        "# 이후 엔터를 치면 자동적으로 들여쓰기가 활성화되고,\n",
        "# 시키시고자 하는 일을 작성하시면 됩니다.\n",
        "'''\n",
        "if True:\n",
        "  print(\"work\")\n",
        "'''\n",
        "\n",
        "# 따라 써 보아요\n"
      ],
      "metadata": {
        "colab": {
          "base_uri": "https://localhost:8080/",
          "height": 35
        },
        "id": "I1i1ECZZXpOp",
        "outputId": "e6386140-7ab9-4cd8-ec90-670a279b81fa"
      },
      "execution_count": null,
      "outputs": [
        {
          "output_type": "execute_result",
          "data": {
            "text/plain": [
              "'\\nif True:\\n  print(\"work\")\\n'"
            ],
            "application/vnd.google.colaboratory.intrinsic+json": {
              "type": "string"
            }
          },
          "metadata": {},
          "execution_count": 15
        }
      ]
    },
    {
      "cell_type": "markdown",
      "source": [
        "이를 조금 응용한다면 아래와 같은 코드를 작성할 수 있다."
      ],
      "metadata": {
        "id": "1AlXeHEKXjsm"
      }
    },
    {
      "cell_type": "code",
      "source": [
        "hot = True\n",
        "\n",
        "if hot:\n",
        "  print(\"Drink water\")"
      ],
      "metadata": {
        "colab": {
          "base_uri": "https://localhost:8080/"
        },
        "id": "kozI9Bp_XBoR",
        "outputId": "680803e9-6cce-49ae-f062-8e4cafe93b00"
      },
      "execution_count": null,
      "outputs": [
        {
          "output_type": "stream",
          "name": "stdout",
          "text": [
            "Drink water\n"
          ]
        }
      ]
    },
    {
      "cell_type": "markdown",
      "source": [
        "또한 위의 bool 부분에서 사용한 == 을 이용하면 이러한 응용도 가능하다."
      ],
      "metadata": {
        "id": "pTbsEKE-ZV9r"
      }
    },
    {
      "cell_type": "code",
      "source": [
        "a = 1\n",
        "b = 1\n",
        "if a == b: # 만약 a 와 b 가 같다면..\n",
        "  print(\"they are same\")"
      ],
      "metadata": {
        "colab": {
          "base_uri": "https://localhost:8080/"
        },
        "id": "tnKn2Gs-ZayF",
        "outputId": "60f9e514-f850-4aae-a994-11b2fe61b545"
      },
      "execution_count": null,
      "outputs": [
        {
          "output_type": "stream",
          "name": "stdout",
          "text": [
            "they are same\n"
          ]
        }
      ]
    },
    {
      "cell_type": "markdown",
      "source": [
        "하지만 언제나 사람 일이 마음대로 되는 것이 아니기 때문에 . . .\n",
        "\n",
        "사실이 아닌 상황에서도 일을 시키려는 마음이 들 수 있다.\n",
        "\n",
        "그럴 때는 else를 사용한다."
      ],
      "metadata": {
        "id": "J2EkN6juXLpF"
      }
    },
    {
      "cell_type": "code",
      "source": [
        "a = 1\n",
        "b = 2\n",
        "# a와 b 가 다른 상황임..\n",
        "\n",
        "if a == b: # a 와 b 가 다르므로 아래의 They are same 은 프린트 되지 않는다.\n",
        "  print(\"They are same\")\n",
        "else: # 그러나 else, 그 외의 상황에서 일을 시키는 코드가 아래에서 돌아간다.\n",
        "  print(\"They are different\")"
      ],
      "metadata": {
        "colab": {
          "base_uri": "https://localhost:8080/"
        },
        "id": "ga8DjGTPYKCY",
        "outputId": "cbe6ce42-9e66-4f49-e39e-49c99ef0d2fa"
      },
      "execution_count": null,
      "outputs": [
        {
          "output_type": "stream",
          "name": "stdout",
          "text": [
            "They are different\n"
          ]
        }
      ]
    },
    {
      "cell_type": "markdown",
      "source": [
        "# Exercise (if)\n",
        "\n",
        "a 와 b가 같다면 (if), happy 를 프린트(print)하고\n",
        "그렇지 않을 때 (else), sad 를 프린트(print) 코드를 작성 해 보자."
      ],
      "metadata": {
        "id": "dEflQmqvbh4T"
      }
    },
    {
      "cell_type": "code",
      "source": [
        "# 먼저 a 와 b 를 정의 해보아요\n",
        "\n",
        "# if 문을 써보아요"
      ],
      "metadata": {
        "id": "IPx-Yti3b4Js"
      },
      "execution_count": null,
      "outputs": []
    },
    {
      "cell_type": "markdown",
      "source": [
        "# 4.2 while\n",
        "\n",
        "while.. 은 ~ 하는 동안 으로 해석된다.\n",
        "\n",
        "파이썬 내에서 사용할 때에는\n",
        "\n",
        "사실인 동안 일을 시키겠다.\n",
        "\n",
        "정도의 마음가짐으로 while을 사용하면 좋다.\n",
        "\n",
        "사용 예시를 확인해 보자."
      ],
      "metadata": {
        "id": "NF1AzWkyaKBh"
      }
    },
    {
      "cell_type": "code",
      "source": [
        "a = True\n",
        "while a:\n",
        "  print(\"Now I'm working\")\n",
        "  a = False"
      ],
      "metadata": {
        "colab": {
          "base_uri": "https://localhost:8080/"
        },
        "id": "aiK9ccBLacAW",
        "outputId": "44916733-c6d8-482e-ab9f-9154b1def72a"
      },
      "execution_count": null,
      "outputs": [
        {
          "output_type": "stream",
          "name": "stdout",
          "text": [
            "Now I'm working\n"
          ]
        }
      ]
    },
    {
      "cell_type": "markdown",
      "source": [
        "첫번째 줄에서 a = True, 사실이므로\n",
        "\n",
        "두번째 줄의 while a, a 가 사실인 동안을 만족하게 된다.\n",
        "\n",
        "사실인 상태이므로 while 아래 들여쓰기가 된 부분이 진행되어 Now I'm working 을 프린트 하게 된다.\n",
        "\n",
        "마지막 줄에서 a = False, 거짓이므로 while 이 종료된다."
      ],
      "metadata": {
        "id": "XP2BE7fyaqoi"
      }
    },
    {
      "cell_type": "markdown",
      "source": [
        "while 은 잘못 사용하면 컴퓨터에게 무한한 노동을 시킬 수 있으므로 조심해서 사용하는 것이 좋다."
      ],
      "metadata": {
        "id": "5FiXTdr8cEsb"
      }
    },
    {
      "cell_type": "markdown",
      "source": [
        "# 5. 파이썬에서 주로 사용되는,,, list, tuple, dict"
      ],
      "metadata": {
        "id": "nT4lcfJ6cQjD"
      }
    },
    {
      "cell_type": "markdown",
      "source": [
        "##5.1 list\n",
        "\n",
        "list 란 무엇인가.\n",
        "\n",
        "예를 들면 이런 상황이다.\n",
        "\n",
        "a = 1 을 정의하였고,\n",
        "\n",
        "b = 2 를 정의하였다.\n",
        "\n",
        "나는 언제까지 a, b 를 하나 하나 작성할 것인가.\n",
        "\n",
        "a 와 b 를 하나의 그룹으로 묶어서 다루고 싶은 마음이 들어버렸다 . . .\n",
        "\n",
        "이 때 list 를 사용하면 된다.\n",
        "\n",
        "간단한 예시를 살펴보자.\n"
      ],
      "metadata": {
        "id": "1Uh0yIGTcqrz"
      }
    },
    {
      "cell_type": "code",
      "source": [
        "a = [1, 2, 3]"
      ],
      "metadata": {
        "id": "tsDn16dQdGuX"
      },
      "execution_count": null,
      "outputs": []
    },
    {
      "cell_type": "markdown",
      "source": [
        "위의 코드가 list를 정의하는 방법이다.\n",
        "\n",
        "list의 이름은 a, 안에는 1, 2, 3 이 들어있는 list가 생성되었다.\n",
        "\n",
        "역시 지금까지 진행 한대로 왼쪽에 변수 이름, 오른쪽에 값을 넣는다.\n",
        "\n",
        "list 를 정의하기 위해서는 값의 좌우 끝에 []를 넣어주면 된다.\n",
        "\n",
        "한번 b에 2, 3, 4 가 들어있는 list를 정의해 보자."
      ],
      "metadata": {
        "id": "nIoJraf1dJ_O"
      }
    },
    {
      "cell_type": "code",
      "source": [
        "# b에다 2, 3, 4 가 포함된 list 를 정의해보아요..\n"
      ],
      "metadata": {
        "id": "jtOzGRy0db3w"
      },
      "execution_count": null,
      "outputs": []
    },
    {
      "cell_type": "markdown",
      "source": [
        "안에 내용물이 들어있는 list를 정의하였으면\n",
        "\n",
        "당연스레 내용물을 꺼내고 싶은 마음이 들 것이다.\n",
        "\n",
        "이 때 list의 이름 뒤에 대괄호([])를 치고, 내용물의 \"번호\" 를 넣으면 된다."
      ],
      "metadata": {
        "id": "6pf3t8vIdpxA"
      }
    },
    {
      "cell_type": "code",
      "source": [
        "a = [1, 2, 3] # list 를 정의함\n",
        "\n",
        "a[0] # a의 0번째 내용물을 꺼냄"
      ],
      "metadata": {
        "colab": {
          "base_uri": "https://localhost:8080/"
        },
        "id": "oOWaJh22d2L0",
        "outputId": "92551f37-7219-4839-c58b-4d4ccceab15a"
      },
      "execution_count": null,
      "outputs": [
        {
          "output_type": "execute_result",
          "data": {
            "text/plain": [
              "1"
            ]
          },
          "metadata": {},
          "execution_count": 23
        }
      ]
    },
    {
      "cell_type": "markdown",
      "source": [
        "여기서 재밌는 점은\n",
        "\n",
        "파이썬에서는 첫번째를 0으로 생각한다는 것이다.\n",
        "\n",
        "a의 첫번째 내용물을 꺼내기 위해서는 a[0] 를 기입해야 한다.\n",
        "\n",
        "그러면 다시 b 라는 list에 2, 3, 4 를 넣고, 두번째 내용물을 꺼내는 코드를 만들어보자."
      ],
      "metadata": {
        "id": "bVxQj_xCeLy_"
      }
    },
    {
      "cell_type": "code",
      "source": [
        "# 리스트에서 내용물을 꺼낼 때엔 [], 중괄호를 사용하옵니다.."
      ],
      "metadata": {
        "id": "Cm6MLfHveyiU"
      },
      "execution_count": null,
      "outputs": []
    },
    {
      "cell_type": "markdown",
      "source": [
        "역시 응용을 하면 list 안에 list를 넣을 수도 있고, (2D Matrix, 2차원 행렬로 생각할 수 있다.)"
      ],
      "metadata": {
        "id": "VaK3TOfhgH5P"
      }
    },
    {
      "cell_type": "code",
      "source": [
        "Matrix = [\n",
        "             [1,2,3],\n",
        "             [4,5,6],\n",
        "             [7,8,9]\n",
        "]\n",
        "print(Matrix[0][2])"
      ],
      "metadata": {
        "colab": {
          "base_uri": "https://localhost:8080/"
        },
        "id": "21GDrjgBgTVy",
        "outputId": "12daef67-12ce-47a2-f0f1-5cc527f5c4ba"
      },
      "execution_count": null,
      "outputs": [
        {
          "output_type": "stream",
          "name": "stdout",
          "text": [
            "3\n"
          ]
        }
      ]
    },
    {
      "cell_type": "markdown",
      "source": [
        "아래와 같이 다양한 사용 방법을 적용시킬 수 있다."
      ],
      "metadata": {
        "id": "nLR-VvWZgVwB"
      }
    },
    {
      "cell_type": "code",
      "source": [
        "numbers = [5,2,1,3,2] # 여기까지는 익숙하실 것.."
      ],
      "metadata": {
        "id": "UawhoqkGgaTT"
      },
      "execution_count": null,
      "outputs": []
    },
    {
      "cell_type": "code",
      "source": [
        "numbers.append(20) # 내용물 추가\n",
        "print(numbers)"
      ],
      "metadata": {
        "colab": {
          "base_uri": "https://localhost:8080/"
        },
        "id": "h7bTl0v8ggbm",
        "outputId": "bfa576c6-4374-4062-8841-25719d9a6c00"
      },
      "execution_count": null,
      "outputs": [
        {
          "output_type": "stream",
          "name": "stdout",
          "text": [
            "[5, 2, 1, 3, 2, 20]\n"
          ]
        }
      ]
    },
    {
      "cell_type": "code",
      "source": [
        "numbers.pop() # 내용물 뽑아내기\n",
        "print(numbers)"
      ],
      "metadata": {
        "colab": {
          "base_uri": "https://localhost:8080/"
        },
        "id": "g29LkqcNglH1",
        "outputId": "626c93ac-3311-47bb-b8c5-20f61915ae16"
      },
      "execution_count": null,
      "outputs": [
        {
          "output_type": "stream",
          "name": "stdout",
          "text": [
            "[90, 5, 2, 1, 3, 2]\n"
          ]
        }
      ]
    },
    {
      "cell_type": "code",
      "source": [
        "print(3 in numbers) # 내용물과 bool 결합"
      ],
      "metadata": {
        "colab": {
          "base_uri": "https://localhost:8080/"
        },
        "id": "QEZ0B0pSgoNq",
        "outputId": "8685fba5-ccb0-450e-9f46-c0dbc1abec5d"
      },
      "execution_count": null,
      "outputs": [
        {
          "output_type": "stream",
          "name": "stdout",
          "text": [
            "True\n"
          ]
        }
      ]
    },
    {
      "cell_type": "code",
      "source": [
        "numbers.sort() # 내용물 분류\n",
        "print(numbers)"
      ],
      "metadata": {
        "id": "BjeszrHcguhc"
      },
      "execution_count": null,
      "outputs": []
    },
    {
      "cell_type": "code",
      "source": [
        "numbers.reverse() # 내용물 뒤집기\n",
        "print(numbers)"
      ],
      "metadata": {
        "id": "o7PetF4qgwRJ"
      },
      "execution_count": null,
      "outputs": []
    },
    {
      "cell_type": "markdown",
      "source": [
        "만 역시 궁금하다면 구근호 교수님 연구실에 진학을 고려해보자.."
      ],
      "metadata": {
        "id": "LZdjLYQIhBdT"
      }
    },
    {
      "cell_type": "markdown",
      "source": [
        "## 5.2 tuple\n",
        "\n",
        "영원함 . . .\n",
        "\n",
        "영원한 것이 존재할까 . . .\n",
        "\n",
        "파이썬에서는 가능하다.\n",
        "\n",
        "tuple 을 사용하면 된다.\n",
        "\n",
        "tuple 또한 list 처럼 내용물들의 묶음을 만드는 방식이다.\n",
        "그러나 내용물을 영원히 수정할 수 없다.\n",
        "\n",
        "위에서 list 를 만들던 방식 그대로, 대괄호 대신 소괄호를 통해 tuple 을 정의할 수 있다."
      ],
      "metadata": {
        "id": "ITl7Pi_qe7sg"
      }
    },
    {
      "cell_type": "code",
      "source": [
        "a = (1, 2, 3)"
      ],
      "metadata": {
        "id": "JsAIWCc2fsWX"
      },
      "execution_count": null,
      "outputs": []
    },
    {
      "cell_type": "markdown",
      "source": [
        "또한 a의 내용물을 꺼내고 싶다면, list와 같이 대괄호를 사용하면 된다."
      ],
      "metadata": {
        "id": "FnuXl4-5fvBU"
      }
    },
    {
      "cell_type": "code",
      "source": [
        "a = (1, 2, 3)\n",
        "a[2]"
      ],
      "metadata": {
        "colab": {
          "base_uri": "https://localhost:8080/"
        },
        "id": "GJkh0BKJf1Fn",
        "outputId": "1d07a7c4-a976-4898-eb2f-624bf4b69c50"
      },
      "execution_count": null,
      "outputs": [
        {
          "output_type": "execute_result",
          "data": {
            "text/plain": [
              "3"
            ]
          },
          "metadata": {},
          "execution_count": 24
        }
      ]
    },
    {
      "cell_type": "markdown",
      "source": [
        "## 5.3 dict\n",
        "\n",
        "dict 는 dictionary, 사전의 줄임말이다.\n",
        "\n",
        "사전이라 함은 그 사전을 의미한다.\n",
        "\n",
        "단어: 단어의 뜻\n",
        "\n",
        "의 형태로 온갖 단어들을 엮어놓은 책 . .\n",
        "\n",
        "파이썬에서도 같은 형식의 사전을 만들어 낼 수 있다.\n",
        "\n",
        "아래에서 예시를 확인해보자"
      ],
      "metadata": {
        "id": "oKH6vbVXx44S"
      }
    },
    {
      "cell_type": "code",
      "source": [
        "a = {\"name\": \"Jake\",\n",
        "     \"age\": 28,\n",
        "     \"height\": 185}\n",
        "\n",
        "a"
      ],
      "metadata": {
        "colab": {
          "base_uri": "https://localhost:8080/"
        },
        "id": "nUN08IGryN0Y",
        "outputId": "d0e910d7-b864-4881-8b33-0056bc9d8401"
      },
      "execution_count": null,
      "outputs": [
        {
          "output_type": "execute_result",
          "data": {
            "text/plain": [
              "{'name': 'Jake', 'age': 28, 'height': 185}"
            ]
          },
          "metadata": {},
          "execution_count": 1
        }
      ]
    },
    {
      "cell_type": "code",
      "source": [],
      "metadata": {
        "id": "U7eIvWsx0g2e"
      },
      "execution_count": null,
      "outputs": []
    },
    {
      "cell_type": "markdown",
      "source": [
        "위 코드를 통해 a 라는 사전, dict를 정의하였다.\n",
        "\n",
        "dict 를 정의하는 방법은 위에서 보다싶이,\n",
        "\n",
        "dict 이름 = {\"단어1\": 단어설명, \"단어2\": 단어설명, \"단어3\": 단어설명}\n",
        "\n",
        "꼴이다.\n",
        "\n",
        "기억할 만한 점은 중괄호{}를 통해 정의하며, 단어1, 단어2, 단어3 은 str의 타입으로 정의해야 한다는 것이다.\n",
        "\n",
        "b라는 dict에 name, age, height의 단어를 가진 dict를 만들어보자.\n",
        "\n",
        "기억나는 사람, 자신 등으로 . . ."
      ],
      "metadata": {
        "id": "JgsqkeUlyluw"
      }
    },
    {
      "cell_type": "code",
      "source": [
        "# name, age, height 의 단어를 가진 dict b 를 정의해보아요\n"
      ],
      "metadata": {
        "id": "3FtZ5NrYy1HQ"
      },
      "execution_count": null,
      "outputs": []
    },
    {
      "cell_type": "markdown",
      "source": [
        "dict에 기입한 단어의 뜻을 어떻게 꺼내올 수 있을까.\n",
        "\n",
        "위의 list 나 tuple 에서 사용한 대괄호[] 를 사용하면 된다.\n",
        "\n",
        "차이는 list, tuple 에서 내용물의 번호를 입력한 것과 다르게\n",
        "\n",
        "dict 에서는 단어 자체를 대괄호에 넣어주면 된다."
      ],
      "metadata": {
        "id": "7jWTy3y1zeIP"
      }
    },
    {
      "cell_type": "code",
      "source": [
        "a = {\"name\": \"jake\",\n",
        "     \"age\": 28,\n",
        "     \"height\": 185}\n",
        "\n",
        "a[\"name\"]"
      ],
      "metadata": {
        "colab": {
          "base_uri": "https://localhost:8080/",
          "height": 35
        },
        "id": "3X4QNkOLzxjl",
        "outputId": "821de478-e7b1-4648-fc18-39655f9038f5"
      },
      "execution_count": null,
      "outputs": [
        {
          "output_type": "execute_result",
          "data": {
            "text/plain": [
              "'jake'"
            ],
            "application/vnd.google.colaboratory.intrinsic+json": {
              "type": "string"
            }
          },
          "metadata": {},
          "execution_count": 2
        }
      ]
    },
    {
      "cell_type": "markdown",
      "source": [
        "#6. function\n",
        "\n",
        "함수 . .\n",
        "\n",
        "수학을 배웠다면 자주 사용하였을 것이다.\n",
        "\n",
        "파이썬에도 동일한 기능을 가진 것이 존재한다.\n",
        "\n",
        "함수에 들어가기 전에 가벼운 계산을 진행 해 보자."
      ],
      "metadata": {
        "id": "XTjbz3tm1v5O"
      }
    },
    {
      "cell_type": "code",
      "source": [
        "a = 1\n",
        "b = 1\n",
        "\n",
        "a + b"
      ],
      "metadata": {
        "id": "iB5HsLdN1_-3"
      },
      "execution_count": null,
      "outputs": []
    },
    {
      "cell_type": "code",
      "source": [
        "a = 1\n",
        "b = 1\n",
        "\n",
        "a - b"
      ],
      "metadata": {
        "id": "V-RRMW8K2Czd"
      },
      "execution_count": null,
      "outputs": []
    },
    {
      "cell_type": "code",
      "source": [
        "a = 1\n",
        "b = 2\n",
        "\n",
        "a * b"
      ],
      "metadata": {
        "colab": {
          "base_uri": "https://localhost:8080/"
        },
        "id": "9j46EFOX2H2V",
        "outputId": "9cfeca33-0ae7-4f19-90ca-9e577111f5c0"
      },
      "execution_count": null,
      "outputs": [
        {
          "output_type": "execute_result",
          "data": {
            "text/plain": [
              "2"
            ]
          },
          "metadata": {},
          "execution_count": 3
        }
      ]
    },
    {
      "cell_type": "code",
      "source": [
        "a = 2\n",
        "b = 1\n",
        "\n",
        "a / b"
      ],
      "metadata": {
        "colab": {
          "base_uri": "https://localhost:8080/"
        },
        "id": "BeUAXP5b2UvS",
        "outputId": "bd1be140-2f94-479b-d09c-b632da66e813"
      },
      "execution_count": null,
      "outputs": [
        {
          "output_type": "execute_result",
          "data": {
            "text/plain": [
              "2.0"
            ]
          },
          "metadata": {},
          "execution_count": 4
        }
      ]
    },
    {
      "cell_type": "markdown",
      "source": [
        "매우 직관적인 결과를 가져온다.\n",
        "\n",
        "이제 a 에 b 를 곱하고 a 를 더한 뒤 그 값을 b로 나누는 코드를 만들어보자."
      ],
      "metadata": {
        "id": "T0nn4usm2suU"
      }
    },
    {
      "cell_type": "code",
      "source": [
        "a = 2\n",
        "b = 1\n",
        "\n",
        "# 작성해주시와요"
      ],
      "metadata": {
        "id": "wtGvfar127AC"
      },
      "execution_count": null,
      "outputs": []
    },
    {
      "cell_type": "markdown",
      "source": [
        "한번은 그럭저럭 타이핑할만 하지만, 만약 매번 이 작업을 반복해야 된다면 . . .\n",
        "\n",
        "몹시 귀찮을 것이다.\n",
        "\n",
        "이를 함수를 통해 해결할 수 있다.\n",
        "\n",
        "아래는 코드로 정의한 함수의 예시이다."
      ],
      "metadata": {
        "id": "f0YpGQcy3BnF"
      }
    },
    {
      "cell_type": "code",
      "source": [
        "def function(x, y):\n",
        "  answer = x * y + x / y\n",
        "\n",
        "  return answer\n",
        "\n",
        "a = 2\n",
        "b = 1\n",
        "function(a, b)"
      ],
      "metadata": {
        "colab": {
          "base_uri": "https://localhost:8080/"
        },
        "id": "aSjXuGj03UXU",
        "outputId": "f4c17010-77bd-4892-ccad-343ccd1e312c"
      },
      "execution_count": null,
      "outputs": [
        {
          "output_type": "execute_result",
          "data": {
            "text/plain": [
              "4.0"
            ]
          },
          "metadata": {},
          "execution_count": 6
        }
      ]
    },
    {
      "cell_type": "markdown",
      "source": [
        "### 함수를 만드는 방법은 다음과 같다.\n",
        "\n",
        "def 기입 -> 함수 이름 기입 -> 들어갈 변수 기입 -> : 기입 (엔터 치고)\n",
        "\n",
        "  함수 내용 기입\n",
        "\n",
        "  return 결과물 기입\n",
        "\n",
        "이다.\n",
        "\n",
        "### 함수를 사용하는 방법은 다음과 같다.\n",
        "\n",
        "함수이름(변수, 변수)\n",
        "\n",
        "x 의 y 제곱을 만드는 함수 코드를 작성해보자 (x 의 y 제곱은 x**y 로 코드에 쓴다.)"
      ],
      "metadata": {
        "id": "BJS0Rqfd3rV1"
      }
    },
    {
      "cell_type": "code",
      "source": [
        "# 함수를 만들어 보아요\n"
      ],
      "metadata": {
        "id": "RJxW0jFW4N7Z"
      },
      "execution_count": null,
      "outputs": []
    },
    {
      "cell_type": "markdown",
      "source": [
        "# 7. module\n",
        "\n",
        "이론상 모든 코드를 우리 손으로 짤 수 있다.\n",
        "\n",
        "마치 이론상 우리가 직접 돌에서부터 만들 수 있는 것 처럼 . . .\n",
        "\n",
        "그러나 그것은 몹시도 귀찮은 일이다.\n",
        "\n",
        "이에 다른 사람이 짜놓은 코드를 가져오는 일이 매우 빈번하다.\n",
        "\n",
        "이 때 가져오는 타인의 코드들이 잘 정리된 것을 module 이라 부른다.\n",
        "\n",
        "이 길을 택한다면 자주 사용하게 될 module 들을 소개하고자 한다.\n",
        "\n",
        "numpy, matplotlib, pandas 등이 있다.\n",
        "\n"
      ],
      "metadata": {
        "id": "G72Vtvj74-FH"
      }
    },
    {
      "cell_type": "markdown",
      "source": [
        "## 7.1 numpy\n",
        "\n",
        "Numpy는 백터 및 매트릭스 기반 연산이 가능한 파이썬 코트 페키지이다. 기초 파이썬 코드는 복잡한 연산을 할 수 없기에 다른 패키지가 개발이 되었다.\n",
        "\n",
        "numpy (및 모든 모듈) 을 사용하는 방법은 아래와 같다."
      ],
      "metadata": {
        "id": "Z-o6wPKu52z3"
      }
    },
    {
      "cell_type": "code",
      "source": [
        "import numpy as np"
      ],
      "metadata": {
        "id": "gOKukRgE6wUx"
      },
      "execution_count": null,
      "outputs": []
    },
    {
      "cell_type": "markdown",
      "source": [
        "주로 import 기입 -> module 이름 기입\n",
        "\n",
        "순서로 이루어진다. 위의 예시의 as 는 역시 궁금하다면 구근호 교수님의 연구실에 진학을 고려해보자 . . .\n",
        "\n",
        "numpy는 list와 비슷하게 동작한다."
      ],
      "metadata": {
        "id": "s3ab3sxY60xJ"
      }
    },
    {
      "cell_type": "code",
      "source": [
        "x = np.array([1,2,3,4])\n",
        "print(type(x))"
      ],
      "metadata": {
        "colab": {
          "base_uri": "https://localhost:8080/"
        },
        "id": "-LpwNQeA7Qrg",
        "outputId": "cc8a3063-0e2f-4ab6-b539-05895ab891dd"
      },
      "execution_count": null,
      "outputs": [
        {
          "output_type": "stream",
          "name": "stdout",
          "text": [
            "<class 'numpy.ndarray'>\n"
          ]
        }
      ]
    },
    {
      "cell_type": "code",
      "source": [
        "b = np.array([[1,2,3],\n",
        "              [4,5,6]]) # this is a 2 dimensional matrix.\n",
        "print(\"b: \", b)\n",
        "print(\"b.shape: \", b.shape)"
      ],
      "metadata": {
        "colab": {
          "base_uri": "https://localhost:8080/"
        },
        "id": "ZMJHk8iW7dqt",
        "outputId": "2e73c1d0-0bb7-4249-b589-0d466feb346f"
      },
      "execution_count": null,
      "outputs": [
        {
          "output_type": "stream",
          "name": "stdout",
          "text": [
            "b:  [[1 2 3]\n",
            " [4 5 6]]\n",
            "b.shape:  (2, 3)\n"
          ]
        }
      ]
    },
    {
      "cell_type": "code",
      "source": [
        "print(b[0])\n",
        "print(b[0,0],b[0,1],b[1,2])\n",
        "print(b[0][0])"
      ],
      "metadata": {
        "colab": {
          "base_uri": "https://localhost:8080/"
        },
        "id": "Soz351xk7eFX",
        "outputId": "4d7aec15-2903-4774-ee8b-0080a2242ff1"
      },
      "execution_count": null,
      "outputs": [
        {
          "output_type": "stream",
          "name": "stdout",
          "text": [
            "[1 2 3]\n",
            "1 2 6\n",
            "1\n"
          ]
        }
      ]
    }
  ]
}