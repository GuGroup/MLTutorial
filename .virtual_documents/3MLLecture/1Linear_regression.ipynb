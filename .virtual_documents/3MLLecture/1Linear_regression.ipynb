


import numpy as np
x = np.array([1,2,3])
y = np.array([1,2,3])
theta = np.array([0.0,0.5])


def h(x,theta):
    y = x*theta[1]
    y += theta[0]
    return y


yp_0 = h(x,theta)


import matplotlib.pyplot as plt
plt.scatter(x,y,c='r')
plt.scatter(x,yp_0,c='b')
plt.xlabel('x')
plt.ylabel('y')





alpha = 0.1
yp = h(x,theta)
theta0 = theta[0] - alpha*(yp-y).mean()
theta1 = theta[1] - alpha*((yp-y)*x).mean()
theta = np.array([theta0,theta1])
print(theta)


yp = h(x,theta)


import matplotlib.pyplot as plt
plt.scatter(x,y,c='r')
plt.scatter(x,yp_0,c='b')
plt.scatter(x,yp,c='k')
plt.xlabel('x')
plt.ylabel('y')


def gradient_descent(x,y,theta,alpha):
    alpha = 0.1
    yp = h(x,theta)
    theta0 = theta[0] - alpha*(yp-y).mean()
    theta1 = theta[1] - alpha*((yp-y)*x).mean()
    theta = np.array([theta0,theta1])
    return theta

def plot(x,y,yp_0,yp):
    plt.scatter(x,y,c='r')
    plt.scatter(x,yp_0,c='b')
    plt.scatter(x,yp,c='k')
    plt.xlabel('x')
    plt.ylabel('y')


theta = gradient_descent(x,y,theta,alpha)
yp = h(x,theta)
plot(x,y,yp_0,yp)


for i in range(50):
    theta = gradient_descent(x,y,theta,alpha)
    yp = h(x,theta)
plot(x,y,yp_0,yp)





import numpy as np
x = np.array([1,2,3])
x_norm = (x - x.mean())/x.std()
y = np.array([1,2,3])
y_norm = (y - y.mean())/y.std()
theta = np.array([0.0,0.5])
yp_0 = h(z,theta)

plt.scatter(z,y_norm,c='r')
plt.scatter(z,yp_0,c='b')
plt.xlabel('x')
plt.ylabel('y')


for _ in range(50):
    theta = gradient_descent(z,y_norm,theta,alpha)
    yp = h(z,theta)

plot(z,y_norm,yp_0,yp)





from sklearn.linear_model import LinearRegression


import urllib.request
urllib.request.urlretrieve("https://github.com/GuGroup/NNTutorial-2024-02-11-Winter-camp/raw/main/3MLLecture/Hydrocarbon.csv", "Hydrocarbon.csv")
import pandas as pd
df = pd.read_csv('Hydrocarbon.csv')
df.head()


data = df.to_numpy()
x = data[:,2:]
y = data[:,1]


h = LinearRegression()


h.fit(x,y)


yp = h.predict(x)


print(y[:5])


print(yp[:5])
