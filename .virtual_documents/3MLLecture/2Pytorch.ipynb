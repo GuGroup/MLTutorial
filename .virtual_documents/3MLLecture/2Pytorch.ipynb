


import torch
x = torch.Tensor([1,2,3])
print(x)


import torch.nn as nn
Layer1 = nn.Linear(3,3) # input and output dimension
print(Layer1)


z2 = Layer1(x)
print(z2)


a2 = torch.sigmoid(z2)
print(a2)


import torch.nn as nn
OutputLayer = nn.Linear(3,1) # input and output dimension
h = OutputLayer(x)
print(h)


Layer1 = nn.Linear(3,3) # input and output dimension
Layer2 = nn.Linear(3,3) # input and output dimension
Layer3 = nn.Linear(3,3) # input and output dimension
Layer4 = nn.Linear(3,1) # input and output dimension

x = torch.Tensor([1,2,3])
a2 = torch.sigmoid(Layer1(x))
a3 = torch.sigmoid(Layer2(x))
a4 = torch.sigmoid(Layer3(x))
h = torch.sigmoid(Layer4(x))
print(h)





x = torch.Tensor([[1],[2],[3]])
y = torch.Tensor([[1],[2],[3]])
Layer1 = nn.Linear(1,1)


print(torch.Tensor([[1],[2],[3]]).shape)
print(torch.Tensor([1,2,3]).shape)






yp = Layer1(x)
print(yp)


criterion = torch.nn.MSELoss()
optimizer = torch.optim.Adam(Layer1.parameters(),0.01)


yp = Layer1(x)
loss = criterion(y,yp)
optimizer.zero_grad()
loss.backward()
optimizer.step()


yp = Layer1(x)
print(yp)


for i in range(1000):
    yp = Layer1(x)
    loss = criterion(y,yp)
    optimizer.zero_grad()
    loss.backward()
    optimizer.step()

print(yp)





import urllib.request
urllib.request.urlretrieve("https://github.com/GuGroup/NNTutorial-2024-02-11-Winter-camp/raw/main/3MLLecture/FuelCell.csv", "FuelCell.csv")
import pandas as pd
df = pd.read_csv('FuelCell.csv')
df.head()


data = df.to_numpy()
y = data[:,:1]
x = data[:,1:]
y = torch.Tensor(y)
x = torch.Tensor(x)





print(x.shape)
print(x.mean(0))
print(x.std(0))


xmean = x.mean(0)
xstd = x.std(0)
x_norm = (x-xmean)/xstd
ymean = y.mean()
ystd = y.std()
y_norm = (y-ymean)/ystd





class NeuralNetwork(torch.nn.Module):
    def __init__(self):
        super(NeuralNetwork, self).__init__()
        self.Layer1 = torch.nn.Linear( 4, 32)
        self.Layer2 = torch.nn.Linear(32, 32)
        self.Layer3 = torch.nn.Linear(32, 1)
        self.act = torch.nn.Softplus()
        
    def forward(self, x):
        x = self.Layer1(x)
        x = self.act(x)
        x = self.Layer2(x)
        x = self.act(x)
        y = self.Layer3(x)
        return y


model = NeuralNetwork()
criterion = torch.nn.MSELoss()
optimizer = torch.optim.Adam(model.parameters(),0.001)


for i in range(1000):
    yp_norm = model(x_norm)
    loss = criterion(y_norm,yp_norm)
    optimizer.zero_grad()
    loss.backward()
    optimizer.step()


yp = yp_norm*ystd + ymean
print(yp[:14])


print(y[:14])


df.head(16)


import os
os.environ['KMP_DUPLICATE_LIB_OK']='True'
import matplotlib.pyplot as plt
plt.scatter(x[:14,0],y[:14,0])
plt.plot(x[:14,0],yp[:14,0].detach().numpy())
